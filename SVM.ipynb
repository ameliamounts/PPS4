{
 "cells": [
  {
   "cell_type": "code",
   "execution_count": 14,
   "id": "e33ea3a8",
   "metadata": {},
   "outputs": [],
   "source": [
    "import numpy as np\n",
    "import random\n",
    "from sklearn.multiclass import OneVsOneClassifier\n",
    "from sklearn.svm import SVC\n",
    "from sklearn.utils import *\n",
    "from sklearn import model_selection\n",
    "from sklearn.preprocessing import StandardScaler\n",
    "import os"
   ]
  },
  {
   "cell_type": "code",
   "execution_count": 15,
   "id": "f5e9124e",
   "metadata": {},
   "outputs": [],
   "source": [
    "# need to add a way to get all of the csv files to be inputted together so the array is one massive dataset...\n",
    "# also need to find a way to get the data to be random? but stay as a whole trial"
   ]
  },
  {
   "cell_type": "code",
   "execution_count": 16,
   "id": "e0bef87b",
   "metadata": {},
   "outputs": [],
   "source": [
    "# classifierKey = []\n",
    "# for i in range(npArray.shape[0]):\n",
    "#     classifierKey.append(npArray[i][1])\n",
    "    \n",
    "#     # idea- I need to get the data into a format where all of the electrodes of the same trial\n",
    "#     # are in the same array. Then I need to get all of the classifiers into a list and number them?"
   ]
  },
  {
   "cell_type": "code",
   "execution_count": 17,
   "id": "e0858239",
   "metadata": {},
   "outputs": [
    {
     "name": "stdout",
     "output_type": "stream",
     "text": [
      "loading 101.txt\n",
      "loading 102.txt\n",
      "loading 103.txt\n",
      "loading 104.txt\n",
      "loading 105.txt\n",
      "loading 106.txt\n",
      "loading 107.txt\n",
      "loading 108.txt\n",
      "loading 109.txt\n",
      "loading 110.txt\n",
      "loading 111.txt\n",
      "loading 112.txt\n",
      "loading 113.txt\n",
      "loading 114.txt\n",
      "loading 115.txt\n",
      "loading 116.txt\n",
      "loading 118.txt\n",
      "loading 119.txt\n",
      "loading 120.txt\n",
      "loading 121.txt\n",
      "loading 122.txt\n",
      "loading 123.txt\n",
      "loading 124.txt\n",
      "loading 125.txt\n",
      "loading 126.txt\n",
      "loading 127.txt\n",
      "loading 128.txt\n",
      "loading 129.txt\n",
      "loading 130.txt\n",
      "loading 131.txt\n",
      "loading 132.txt\n",
      "loading 133.txt\n",
      "loading 134.txt\n",
      "loading 136.txt\n",
      "loading 137.txt\n",
      "loading 138.txt\n",
      "loading 139.txt\n",
      "loading 140.txt\n",
      "loading 141.txt\n",
      "loading 142.txt\n",
      "loading 143.txt\n",
      "loading 144.txt\n",
      "loading 145.txt\n",
      "loading 147.txt\n",
      "loading 148.txt\n",
      "loading 149.txt\n",
      "loading 150.txt\n",
      "loading 151.txt\n",
      "loading 152.txt\n",
      "loading 153.txt\n",
      "loading 154.txt\n",
      "loading 155.txt\n",
      "loading 156.txt\n",
      "loading 158.txt\n",
      "loading 159.txt\n",
      "loading 160.txt\n"
     ]
    }
   ],
   "source": [
    "# parse the txt data to get an array of arrays with only the desired electrodes\n",
    "conditionList = []\n",
    "electrodeData = []\n",
    "allData = []\n",
    "for file in os.listdir('/Volumes/Amelia\\'s Backups/thesisData'):\n",
    "    print(\"loading \" + file)\n",
    "    f = open(\"/Volumes/Amelia\\'s Backups/thesisData/\"+file, \"r\")\n",
    "    lines = f.readlines()\n",
    "    trialNum = 0\n",
    "    for line in lines:\n",
    "        vals = line.split(\",\")\n",
    "        if trialNum != vals[2] and vals[2]!=\"trial\": # added this to see if fixes error\n",
    "            #print(trialNum)\n",
    "            trialNum = vals[2] #this is the new trial number\n",
    "            #we need a new electrode data list bc a new trial is started\n",
    "            # somehow filter the first line\n",
    "            if len(electrodeData)>4:\n",
    "                allData.append(electrodeData)\n",
    "                conditionList.append(vals[1])\n",
    "            electrodeData = []\n",
    "            #conditionList.append(vals[1])\n",
    "            #then append all the values of interest to the newly empty list or append to a nonempty list\n",
    "        if vals[2]!=\"trial\":\n",
    "            electrodeData.append(float(vals[33]))\n",
    "            electrodeData.append(float(vals[35]))\n",
    "            electrodeData.append(float(vals[46]))\n",
    "            electrodeData.append(float(vals[47]))\n",
    "    allData.append(electrodeData)\n",
    "    conditionList.append(vals[1])"
   ]
  },
  {
   "cell_type": "code",
   "execution_count": 18,
   "id": "011d830b",
   "metadata": {},
   "outputs": [
    {
     "name": "stdout",
     "output_type": "stream",
     "text": [
      "42687\n"
     ]
    }
   ],
   "source": [
    "print(len(conditionList))"
   ]
  },
  {
   "cell_type": "code",
   "execution_count": 19,
   "id": "b149dcb7",
   "metadata": {},
   "outputs": [],
   "source": [
    "# make the conditions list fit a numerical schema\n",
    "numCond = []\n",
    "for item in conditionList:\n",
    "    if item==\"House upright \":\n",
    "        numCond.append(0)\n",
    "    elif item==\"House invert\":\n",
    "        numCond.append(1)\n",
    "    elif item==\"Face White upright 0%\":\n",
    "        numCond.append(2)\n",
    "    elif item==\"Face White Invert 0%\":\n",
    "        numCond.append(3)\n",
    "    elif item==\"Face White upright 70%\":\n",
    "        numCond.append(4)\n",
    "    elif item==\"Face White invert 70%\":\n",
    "        numCond.append(5)\n",
    "    elif item==\"Face Black upright 0%\":\n",
    "        numCond.append(6)\n",
    "    elif item==\"Face Black Invert 0%\":\n",
    "        numCond.append(7)\n",
    "    elif item==\"Face Black upright 70%\":\n",
    "        numCond.append(8)\n",
    "    elif item==\"Face Black Invert 70%\":\n",
    "        numCond.append(9)"
   ]
  },
  {
   "cell_type": "code",
   "execution_count": 20,
   "id": "d789914a",
   "metadata": {},
   "outputs": [],
   "source": [
    "# numCond = []\n",
    "# for item in conditionList:\n",
    "#     if item==\"House upright \":\n",
    "#         numCond.append(0)\n",
    "#     elif item==\"House invert\":\n",
    "#         numCond.append(0)\n",
    "#     elif item==\"Face White upright 0%\":\n",
    "#         numCond.append(1)\n",
    "#     elif item==\"Face White Invert 0%\":\n",
    "#         numCond.append(1)\n",
    "#     elif item==\"Face White upright 70%\":\n",
    "#         numCond.append(1)\n",
    "#     elif item==\"Face White invert 70%\":\n",
    "#         numCond.append(1)\n",
    "#     elif item==\"Face Black upright 0%\":\n",
    "#         numCond.append(1)\n",
    "#     elif item==\"Face Black Invert 0%\":\n",
    "#         numCond.append(1)\n",
    "#     elif item==\"Face Black upright 70%\":\n",
    "#         numCond.append(1)\n",
    "#     elif item==\"Face Black Invert 70%\":\n",
    "#         numCond.append(1)"
   ]
  },
  {
   "cell_type": "code",
   "execution_count": 21,
   "id": "5dbcb9cb",
   "metadata": {},
   "outputs": [
    {
     "name": "stdout",
     "output_type": "stream",
     "text": [
      "42687\n"
     ]
    }
   ],
   "source": [
    "print(len(numCond))"
   ]
  },
  {
   "cell_type": "code",
   "execution_count": 22,
   "id": "2ad30cf5",
   "metadata": {},
   "outputs": [
    {
     "name": "stdout",
     "output_type": "stream",
     "text": [
      "[[-1.464439 0.689703 7.864256 ... -1.96993 8.47317 8.952189]\n",
      " [2.059378 1.850796 4.45815 ... 6.729721 -0.501504 0.219612]\n",
      " [-0.057974 1.094998 -7.128395 ... 4.657661 -6.681059 -7.257719]\n",
      " ...\n",
      " [-6.704969 -8.925579 26.868647 ... 6.116722 17.14164 -5.441307]\n",
      " [14.802292 12.661365 27.215427 ... 28.800381 -57.027412 14.169834]\n",
      " [2.151755 8.268625 -62.196735 ... 39.227005 -88.654099 10.256313]]\n"
     ]
    }
   ],
   "source": [
    "npArr = np.array(allData, dtype=object)\n",
    "print(npArr)"
   ]
  },
  {
   "cell_type": "code",
   "execution_count": 23,
   "id": "ae9754ce",
   "metadata": {},
   "outputs": [
    {
     "name": "stdout",
     "output_type": "stream",
     "text": [
      "[[2.203053 1.498927 8.738965 ... -3.119158 -4.52574 -5.340775]\n",
      " [-3.996404 -8.275059 -10.778839 ... -9.10048 -14.547396 -1.66135]\n",
      " [4.685529 3.064858 -1.748873 ... -4.832255 -2.238585 -1.221576]\n",
      " ...\n",
      " [20.66337 19.609638 -10.844703 ... -1.68988 -0.000885 0.980953]\n",
      " [-237.81665 -237.621796 -293.90271 ... 0.513733 53.161804 27.596466]\n",
      " [7.62851 8.845196 4.357373 ... -0.607235 2.400339 2.656394]]\n",
      "[0 8 6 ... 6 0 1]\n"
     ]
    }
   ],
   "source": [
    "npNumCond = np.array(numCond)\n",
    "\n",
    "X, y = shuffle(npArr, npNumCond, random_state=0)\n",
    "print(X)\n",
    "print(y)"
   ]
  },
  {
   "cell_type": "code",
   "execution_count": 25,
   "id": "65be6d45",
   "metadata": {},
   "outputs": [
    {
     "name": "stderr",
     "output_type": "stream",
     "text": [
      "/Library/Frameworks/Python.framework/Versions/3.10/lib/python3.10/site-packages/sklearn/svm/_base.py:301: ConvergenceWarning: Solver terminated early (max_iter=500).  Consider pre-processing your data with StandardScaler or MinMaxScaler.\n",
      "  warnings.warn(\n"
     ]
    },
    {
     "data": {
      "text/html": [
       "<style>#sk-container-id-1 {color: black;background-color: white;}#sk-container-id-1 pre{padding: 0;}#sk-container-id-1 div.sk-toggleable {background-color: white;}#sk-container-id-1 label.sk-toggleable__label {cursor: pointer;display: block;width: 100%;margin-bottom: 0;padding: 0.3em;box-sizing: border-box;text-align: center;}#sk-container-id-1 label.sk-toggleable__label-arrow:before {content: \"▸\";float: left;margin-right: 0.25em;color: #696969;}#sk-container-id-1 label.sk-toggleable__label-arrow:hover:before {color: black;}#sk-container-id-1 div.sk-estimator:hover label.sk-toggleable__label-arrow:before {color: black;}#sk-container-id-1 div.sk-toggleable__content {max-height: 0;max-width: 0;overflow: hidden;text-align: left;background-color: #f0f8ff;}#sk-container-id-1 div.sk-toggleable__content pre {margin: 0.2em;color: black;border-radius: 0.25em;background-color: #f0f8ff;}#sk-container-id-1 input.sk-toggleable__control:checked~div.sk-toggleable__content {max-height: 200px;max-width: 100%;overflow: auto;}#sk-container-id-1 input.sk-toggleable__control:checked~label.sk-toggleable__label-arrow:before {content: \"▾\";}#sk-container-id-1 div.sk-estimator input.sk-toggleable__control:checked~label.sk-toggleable__label {background-color: #d4ebff;}#sk-container-id-1 div.sk-label input.sk-toggleable__control:checked~label.sk-toggleable__label {background-color: #d4ebff;}#sk-container-id-1 input.sk-hidden--visually {border: 0;clip: rect(1px 1px 1px 1px);clip: rect(1px, 1px, 1px, 1px);height: 1px;margin: -1px;overflow: hidden;padding: 0;position: absolute;width: 1px;}#sk-container-id-1 div.sk-estimator {font-family: monospace;background-color: #f0f8ff;border: 1px dotted black;border-radius: 0.25em;box-sizing: border-box;margin-bottom: 0.5em;}#sk-container-id-1 div.sk-estimator:hover {background-color: #d4ebff;}#sk-container-id-1 div.sk-parallel-item::after {content: \"\";width: 100%;border-bottom: 1px solid gray;flex-grow: 1;}#sk-container-id-1 div.sk-label:hover label.sk-toggleable__label {background-color: #d4ebff;}#sk-container-id-1 div.sk-serial::before {content: \"\";position: absolute;border-left: 1px solid gray;box-sizing: border-box;top: 0;bottom: 0;left: 50%;z-index: 0;}#sk-container-id-1 div.sk-serial {display: flex;flex-direction: column;align-items: center;background-color: white;padding-right: 0.2em;padding-left: 0.2em;position: relative;}#sk-container-id-1 div.sk-item {position: relative;z-index: 1;}#sk-container-id-1 div.sk-parallel {display: flex;align-items: stretch;justify-content: center;background-color: white;position: relative;}#sk-container-id-1 div.sk-item::before, #sk-container-id-1 div.sk-parallel-item::before {content: \"\";position: absolute;border-left: 1px solid gray;box-sizing: border-box;top: 0;bottom: 0;left: 50%;z-index: -1;}#sk-container-id-1 div.sk-parallel-item {display: flex;flex-direction: column;z-index: 1;position: relative;background-color: white;}#sk-container-id-1 div.sk-parallel-item:first-child::after {align-self: flex-end;width: 50%;}#sk-container-id-1 div.sk-parallel-item:last-child::after {align-self: flex-start;width: 50%;}#sk-container-id-1 div.sk-parallel-item:only-child::after {width: 0;}#sk-container-id-1 div.sk-dashed-wrapped {border: 1px dashed gray;margin: 0 0.4em 0.5em 0.4em;box-sizing: border-box;padding-bottom: 0.4em;background-color: white;}#sk-container-id-1 div.sk-label label {font-family: monospace;font-weight: bold;display: inline-block;line-height: 1.2em;}#sk-container-id-1 div.sk-label-container {text-align: center;}#sk-container-id-1 div.sk-container {/* jupyter's `normalize.less` sets `[hidden] { display: none; }` but bootstrap.min.css set `[hidden] { display: none !important; }` so we also need the `!important` here to be able to override the default hidden behavior on the sphinx rendered scikit-learn.org. See: https://github.com/scikit-learn/scikit-learn/issues/21755 */display: inline-block !important;position: relative;}#sk-container-id-1 div.sk-text-repr-fallback {display: none;}</style><div id=\"sk-container-id-1\" class=\"sk-top-container\"><div class=\"sk-text-repr-fallback\"><pre>SVC(max_iter=500, random_state=0)</pre><b>In a Jupyter environment, please rerun this cell to show the HTML representation or trust the notebook. <br />On GitHub, the HTML representation is unable to render, please try loading this page with nbviewer.org.</b></div><div class=\"sk-container\" hidden><div class=\"sk-item\"><div class=\"sk-estimator sk-toggleable\"><input class=\"sk-toggleable__control sk-hidden--visually\" id=\"sk-estimator-id-1\" type=\"checkbox\" checked><label for=\"sk-estimator-id-1\" class=\"sk-toggleable__label sk-toggleable__label-arrow\">SVC</label><div class=\"sk-toggleable__content\"><pre>SVC(max_iter=500, random_state=0)</pre></div></div></div></div></div>"
      ],
      "text/plain": [
       "SVC(max_iter=500, random_state=0)"
      ]
     },
     "execution_count": 25,
     "metadata": {},
     "output_type": "execute_result"
    }
   ],
   "source": [
    "#TRAINING\n",
    "#X, y = shuffle(npArr, npNumCond, random_state=0)\n",
    "X_train, X_test, y_train, y_test = model_selection.train_test_split(\n",
    "    X, y, test_size=0.25, random_state=42\n",
    ")\n",
    "\n",
    "scaler = StandardScaler()\n",
    "X_train = scaler.fit_transform(X_train)\n",
    "X_test = scaler.transform(X_test)\n",
    "\n",
    "\n",
    "clf = SVC(random_state=0, max_iter=500, kernel = \"rbf\")\n",
    "clf.fit(X_train, y_train)\n",
    "\n",
    "\n",
    "# clf = OneVsOneClassifier(SVC(random_state=0, max_iter=500, kernel = \"rbf\")).fit(Xtrain, ytrain)\n",
    "# clf.fit(Xtrain, ytrain)"
   ]
  },
  {
   "cell_type": "code",
   "execution_count": 30,
   "id": "ee164f8a",
   "metadata": {},
   "outputs": [
    {
     "name": "stdout",
     "output_type": "stream",
     "text": [
      "761\n",
      "10672\n",
      "0.07130809595202399\n"
     ]
    }
   ],
   "source": [
    "#TESTING\n",
    "predictions=[]\n",
    "correct = 0\n",
    "for i in range(len(X_test)):\n",
    "    sample = X_test[i].reshape(1,-1)\n",
    "    prediction = clf.predict(sample)\n",
    "    predictions.append(prediction)\n",
    "    if prediction==y_test[i]:\n",
    "        correct+=1\n",
    "print(correct)\n",
    "print(len(X_test))\n",
    "accuracy = correct/len(y_test)\n",
    "print(accuracy)"
   ]
  },
  {
   "cell_type": "code",
   "execution_count": null,
   "id": "c995e31f",
   "metadata": {},
   "outputs": [],
   "source": [
    "print(predictions)"
   ]
  },
  {
   "cell_type": "code",
   "execution_count": null,
   "id": "21b0a3a6",
   "metadata": {},
   "outputs": [],
   "source": []
  }
 ],
 "metadata": {
  "kernelspec": {
   "display_name": "Python 3 (ipykernel)",
   "language": "python",
   "name": "python3"
  },
  "language_info": {
   "codemirror_mode": {
    "name": "ipython",
    "version": 3
   },
   "file_extension": ".py",
   "mimetype": "text/x-python",
   "name": "python",
   "nbconvert_exporter": "python",
   "pygments_lexer": "ipython3",
   "version": "3.10.2"
  }
 },
 "nbformat": 4,
 "nbformat_minor": 5
}
